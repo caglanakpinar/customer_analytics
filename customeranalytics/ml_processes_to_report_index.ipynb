{
 "cells": [
  {
   "cell_type": "code",
   "execution_count": 1,
   "metadata": {},
   "outputs": [
    {
     "data": {
      "text/html": [
       "<style>.container { width:90% !important; }</style>"
      ],
      "text/plain": [
       "<IPython.core.display.HTML object>"
      ]
     },
     "metadata": {},
     "output_type": "display_data"
    }
   ],
   "source": [
    "from IPython.display import display, HTML\n",
    "display(HTML('<style>.container { width:90% !important; }</style>'))\n",
    "from elasticsearch import Elasticsearch \n",
    "from elasticsearch import helpers\n",
    "from sklearn.cluster import KMeans\n",
    "import requests\n",
    "from urllib.parse import urljoin\n",
    "from time import gmtime, strftime\n",
    "from itertools import product\n",
    "import warnings\n",
    "from scipy import stats\n",
    "import chart_studio.plotly.plotly as py\n",
    "import plotly.graph_objs as go\n",
    "import plotly.offline as offline\n",
    "import pandas as pd\n",
    "import numpy as np\n",
    "import datetime"
   ]
  },
  {
   "cell_type": "code",
   "execution_count": 2,
   "metadata": {},
   "outputs": [],
   "source": [
    "es=Elasticsearch([{'host':'localhost','port':9200}], timeout=300, max_retries=10)"
   ]
  },
  {
   "cell_type": "code",
   "execution_count": 3,
   "metadata": {},
   "outputs": [
    {
     "name": "stderr",
     "output_type": "stream",
     "text": [
      "/Users/caglanakpinar/miniforge3/lib/python3.9/site-packages/plotly/graph_objs/_deprecations.py:143: DeprecationWarning:\n",
      "\n",
      "plotly.graph_objs.Annotation is deprecated.\n",
      "Please replace it with one of the following more specific types\n",
      "  - plotly.graph_objs.layout.Annotation\n",
      "  - plotly.graph_objs.layout.scene.Annotation\n",
      "\n",
      "\n"
     ]
    },
    {
     "name": "stdout",
     "output_type": "stream",
     "text": [
      "[Errno 21] Is a directory: '/Users/caglanakpinar/Desktop/temp_customer_analytics_folder/build_in_reports/main/2021-06-19'\n"
     ]
    }
   ],
   "source": [
    "from data_storage_configurations.reports import Reports"
   ]
  },
  {
   "cell_type": "code",
   "execution_count": 4,
   "metadata": {},
   "outputs": [],
   "source": [
    "create_build_in_reports = Reports()"
   ]
  },
  {
   "cell_type": "code",
   "execution_count": 5,
   "metadata": {
    "scrolled": false
   },
   "outputs": [
    {
     "name": "stdout",
     "output_type": "stream",
     "text": [
      "folder already exists\n",
      "folder already exists\n",
      "index : main || report :  weekly_funnel\n",
      "index : main || report :  daily_clv\n"
     ]
    },
    {
     "ename": "IndexError",
     "evalue": "list index out of range",
     "output_type": "error",
     "traceback": [
      "\u001b[0;31m---------------------------------------------------------------------------\u001b[0m",
      "\u001b[0;31mIndexError\u001b[0m                                Traceback (most recent call last)",
      "\u001b[0;32m<ipython-input-5-0bddb37f9c1e>\u001b[0m in \u001b[0;36m<module>\u001b[0;34m\u001b[0m\n\u001b[0;32m----> 1\u001b[0;31m \u001b[0mcreate_build_in_reports\u001b[0m\u001b[0;34m.\u001b[0m\u001b[0mcreate_build_in_reports\u001b[0m\u001b[0;34m(\u001b[0m\u001b[0;34m)\u001b[0m\u001b[0;34m\u001b[0m\u001b[0;34m\u001b[0m\u001b[0m\n\u001b[0m",
      "\u001b[0;32m~/Documents/GitHub/customer_analytics/customeranalytics/data_storage_configurations/reports.py\u001b[0m in \u001b[0;36mcreate_build_in_reports\u001b[0;34m(self)\u001b[0m\n\u001b[1;32m    506\u001b[0m                     \u001b[0;32mfor\u001b[0m \u001b[0mr_name\u001b[0m \u001b[0;32min\u001b[0m \u001b[0mself\u001b[0m\u001b[0;34m.\u001b[0m\u001b[0msample_report_names\u001b[0m\u001b[0;34m:\u001b[0m\u001b[0;34m\u001b[0m\u001b[0;34m\u001b[0m\u001b[0m\n\u001b[1;32m    507\u001b[0m                         \u001b[0mprint\u001b[0m\u001b[0;34m(\u001b[0m\u001b[0;34m\"index :\"\u001b[0m\u001b[0;34m,\u001b[0m \u001b[0mindex\u001b[0m\u001b[0;34m,\u001b[0m \u001b[0;34m\"|| report : \"\u001b[0m\u001b[0;34m,\u001b[0m \u001b[0mr_name\u001b[0m\u001b[0;34m)\u001b[0m\u001b[0;34m\u001b[0m\u001b[0;34m\u001b[0m\u001b[0m\n\u001b[0;32m--> 508\u001b[0;31m                         \u001b[0m_data\u001b[0m \u001b[0;34m=\u001b[0m \u001b[0mself\u001b[0m\u001b[0;34m.\u001b[0m\u001b[0mget_related_report\u001b[0m\u001b[0;34m(\u001b[0m\u001b[0mreports\u001b[0m\u001b[0;34m,\u001b[0m \u001b[0mr_name\u001b[0m\u001b[0;34m,\u001b[0m \u001b[0mindex\u001b[0m\u001b[0;34m)\u001b[0m\u001b[0;34m\u001b[0m\u001b[0;34m\u001b[0m\u001b[0m\n\u001b[0m\u001b[1;32m    509\u001b[0m                         \u001b[0;32mif\u001b[0m \u001b[0mlen\u001b[0m\u001b[0;34m(\u001b[0m\u001b[0m_data\u001b[0m\u001b[0;34m)\u001b[0m \u001b[0;34m!=\u001b[0m \u001b[0;36m0\u001b[0m\u001b[0;34m:\u001b[0m\u001b[0;34m\u001b[0m\u001b[0;34m\u001b[0m\u001b[0m\n\u001b[1;32m    510\u001b[0m                             \u001b[0m_data\u001b[0m\u001b[0;34m.\u001b[0m\u001b[0mto_csv\u001b[0m\u001b[0;34m(\u001b[0m\u001b[0mself\u001b[0m\u001b[0;34m.\u001b[0m\u001b[0mget_import_file_path\u001b[0m\u001b[0;34m(\u001b[0m\u001b[0mr_name\u001b[0m\u001b[0;34m,\u001b[0m \u001b[0mindex\u001b[0m\u001b[0;34m)\u001b[0m\u001b[0;34m,\u001b[0m \u001b[0mindex\u001b[0m\u001b[0;34m=\u001b[0m\u001b[0;32mFalse\u001b[0m\u001b[0;34m)\u001b[0m\u001b[0;34m\u001b[0m\u001b[0;34m\u001b[0m\u001b[0m\n",
      "\u001b[0;32m~/Documents/GitHub/customer_analytics/customeranalytics/data_storage_configurations/reports.py\u001b[0m in \u001b[0;36mget_related_report\u001b[0;34m(self, reports, r_name, index)\u001b[0m\n\u001b[1;32m    432\u001b[0m                 \u001b[0mreport_data\u001b[0m \u001b[0;34m=\u001b[0m \u001b[0mself\u001b[0m\u001b[0;34m.\u001b[0m\u001b[0mrequired_aggregation\u001b[0m\u001b[0;34m(\u001b[0m\u001b[0mr_name\u001b[0m\u001b[0;34m,\u001b[0m \u001b[0mpd\u001b[0m\u001b[0;34m.\u001b[0m\u001b[0mDataFrame\u001b[0m\u001b[0;34m(\u001b[0m\u001b[0mlist\u001b[0m\u001b[0;34m(\u001b[0m\u001b[0mreport\u001b[0m\u001b[0;34m[\u001b[0m\u001b[0;34m'data'\u001b[0m\u001b[0;34m]\u001b[0m\u001b[0;34m)\u001b[0m\u001b[0;34m[\u001b[0m\u001b[0;36m0\u001b[0m\u001b[0;34m]\u001b[0m\u001b[0;34m)\u001b[0m\u001b[0;34m)\u001b[0m\u001b[0;34m\u001b[0m\u001b[0;34m\u001b[0m\u001b[0m\n\u001b[1;32m    433\u001b[0m             \u001b[0;32mif\u001b[0m \u001b[0mr_name\u001b[0m \u001b[0;32min\u001b[0m \u001b[0;34m[\u001b[0m\u001b[0;34m'daily_clv'\u001b[0m\u001b[0;34m,\u001b[0m \u001b[0;34m\"clvsegments_amount\"\u001b[0m\u001b[0;34m]\u001b[0m\u001b[0;34m:\u001b[0m\u001b[0;34m\u001b[0m\u001b[0;34m\u001b[0m\u001b[0m\n\u001b[0;32m--> 434\u001b[0;31m                 \u001b[0mreport_data\u001b[0m \u001b[0;34m=\u001b[0m \u001b[0mself\u001b[0m\u001b[0;34m.\u001b[0m\u001b[0mget_clv_report\u001b[0m\u001b[0;34m(\u001b[0m\u001b[0mreports\u001b[0m\u001b[0;34m,\u001b[0m \u001b[0mr_name\u001b[0m\u001b[0;34m,\u001b[0m \u001b[0mindex\u001b[0m\u001b[0;34m)\u001b[0m\u001b[0;34m\u001b[0m\u001b[0;34m\u001b[0m\u001b[0m\n\u001b[0m\u001b[1;32m    435\u001b[0m             \u001b[0;32mif\u001b[0m \u001b[0;34m'anomaly'\u001b[0m \u001b[0;32min\u001b[0m \u001b[0mr_name\u001b[0m\u001b[0;34m.\u001b[0m\u001b[0msplit\u001b[0m\u001b[0;34m(\u001b[0m\u001b[0;34m\"_\"\u001b[0m\u001b[0;34m)\u001b[0m\u001b[0;34m:\u001b[0m\u001b[0;34m\u001b[0m\u001b[0;34m\u001b[0m\u001b[0m\n\u001b[1;32m    436\u001b[0m                 \u001b[0mreport_data\u001b[0m \u001b[0;34m=\u001b[0m \u001b[0mself\u001b[0m\u001b[0;34m.\u001b[0m\u001b[0mget_anomaly_reports\u001b[0m\u001b[0;34m(\u001b[0m\u001b[0mr_name\u001b[0m\u001b[0;34m,\u001b[0m \u001b[0mreport\u001b[0m\u001b[0;34m)\u001b[0m\u001b[0;34m\u001b[0m\u001b[0;34m\u001b[0m\u001b[0m\n",
      "\u001b[0;32m~/Documents/GitHub/customer_analytics/customeranalytics/data_storage_configurations/reports.py\u001b[0m in \u001b[0;36mget_clv_report\u001b[0;34m(self, reports, r_name, index)\u001b[0m\n\u001b[1;32m    341\u001b[0m             \u001b[0mclv\u001b[0m \u001b[0;34m=\u001b[0m \u001b[0mclv\u001b[0m\u001b[0;34m.\u001b[0m\u001b[0mquery\u001b[0m\u001b[0;34m(\u001b[0m\u001b[0;34m\"dimension == @index\"\u001b[0m\u001b[0;34m)\u001b[0m\u001b[0;34m\u001b[0m\u001b[0;34m\u001b[0m\u001b[0m\n\u001b[1;32m    342\u001b[0m         \u001b[0;32mif\u001b[0m \u001b[0mr_name\u001b[0m \u001b[0;34m==\u001b[0m \u001b[0;34m'daily_clv'\u001b[0m\u001b[0;34m:\u001b[0m\u001b[0;34m\u001b[0m\u001b[0;34m\u001b[0m\u001b[0m\n\u001b[0;32m--> 343\u001b[0;31m             daily_revenue = pd.DataFrame(list(reports.query(\"report_name == '{}' and type == 'daily_revenue'\".format(\n\u001b[0m\u001b[1;32m    344\u001b[0m                     self.clv_reports[1]))['data'])[0]).rename(columns={\"daily\": \"date\"})\n\u001b[1;32m    345\u001b[0m             \u001b[0mclv\u001b[0m\u001b[0;34m[\u001b[0m\u001b[0;34m'data_type'\u001b[0m\u001b[0;34m]\u001b[0m \u001b[0;34m=\u001b[0m \u001b[0;34m'prediction'\u001b[0m\u001b[0;34m\u001b[0m\u001b[0;34m\u001b[0m\u001b[0m\n",
      "\u001b[0;31mIndexError\u001b[0m: list index out of range"
     ]
    }
   ],
   "source": [
    "create_build_in_reports.create_build_in_reports()"
   ]
  },
  {
   "cell_type": "code",
   "execution_count": null,
   "metadata": {
    "scrolled": true
   },
   "outputs": [],
   "source": [
    "create_mls(configs)"
   ]
  },
  {
   "cell_type": "code",
   "execution_count": null,
   "metadata": {},
   "outputs": [],
   "source": [
    "res = []\n",
    "for r in es.search(index='reports', body={\"size\": 1000, \"from\": 0})['hits']['hits']:\n",
    "    try:\n",
    "        res.append({'report_name': r['_source']['report_name'],\n",
    "                    'report_date': r['_source']['report_date'],\n",
    "                    'time_period': r['_source']['report_types'].get('time_period', None),\n",
    "                    'type': r['_source']['report_types'].get('type', None),\n",
    "                    'from': r['_source']['report_types'].get('from', None),\n",
    "                    'to': r['_source']['report_types'].get('to', None),\n",
    "                    'abtest_type': r['_source']['report_types'].get('abtest_type', None),\n",
    "                    'report_types': r['_source']['report_types'],\n",
    "                    'index': r['_source']['index'],\n",
    "                    'data': r['_source']['data']})\n",
    "    except Exception as e:\n",
    "        print(e)"
   ]
  },
  {
   "cell_type": "code",
   "execution_count": null,
   "metadata": {},
   "outputs": [],
   "source": [
    "list(pd.DataFrame(res).query(\"index == 'location_1' and report_name == 'rfm'\")['data'])[0]"
   ]
  },
  {
   "cell_type": "code",
   "execution_count": null,
   "metadata": {},
   "outputs": [],
   "source": [
    "data = query_mls(configs, {\"start_date\": \"2021-02-06\"}, \"segmentation\")\n",
    "rfm = query_exploratory_analysis({\"date\": None,\n",
    "           \"funnel\": {\"actions\": [\"download\", \"signup\"], \n",
    "                      \"purchase_actions\": [\"has_basket\", \"order_screen\"], \n",
    "                      \"host\": 'localhost', \n",
    "                      \"port\": '9200', \n",
    "                      'download_index': 'downloads', \n",
    "                      'order_index': 'orders'},\n",
    "           \"cohort\": {\"has_download\": True, \"host\": 'localhost', \"port\": '9200'},\n",
    "           \"products\": {\"has_download\": True, \"host\": 'localhost', \"port\": '9200'},\n",
    "           \"rfm\": {\"host\": 'localhost', \"port\": '9200', 'download_index': 'downloads', 'order_index': 'orders'},\n",
    "           \"stats\": {\"host\": 'localhost', \"port\": '9200', 'download_index': 'downloads', 'order_index': 'orders'}\n",
    "          }, queries, \"rfm\")"
   ]
  },
  {
   "cell_type": "code",
   "execution_count": null,
   "metadata": {},
   "outputs": [],
   "source": [
    "pd.merge(data, rfm, on='client', how='inner').iloc[0:2000].to_csv(\"sample_data_rfm.csv\")"
   ]
  },
  {
   "cell_type": "code",
   "execution_count": null,
   "metadata": {},
   "outputs": [],
   "source": [
    "pip install screeninfo"
   ]
  },
  {
   "cell_type": "code",
   "execution_count": null,
   "metadata": {},
   "outputs": [],
   "source": [
    "from screeninfo import get_monitors\n",
    "for m in get_monitors():\n",
    "    print(str(m))"
   ]
  },
  {
   "cell_type": "code",
   "execution_count": null,
   "metadata": {},
   "outputs": [],
   "source": [
    "monitor = get_monitors()[0]\n",
    "monitor[]"
   ]
  },
  {
   "cell_type": "code",
   "execution_count": null,
   "metadata": {},
   "outputs": [],
   "source": [
    "monitor.width"
   ]
  },
  {
   "cell_type": "code",
   "execution_count": null,
   "metadata": {},
   "outputs": [],
   "source": [
    "def get_widths_heights():\n",
    "    monitor = get_monitors()[0]\n",
    "    if moni"
   ]
  },
  {
   "cell_type": "code",
   "execution_count": null,
   "metadata": {},
   "outputs": [],
   "source": [
    "{1, 2, 4, 4, None} - {'None'}"
   ]
  },
  {
   "cell_type": "code",
   "execution_count": null,
   "metadata": {},
   "outputs": [],
   "source": []
  }
 ],
 "metadata": {
  "kernelspec": {
   "display_name": "Python 3",
   "language": "python",
   "name": "python3"
  },
  "language_info": {
   "codemirror_mode": {
    "name": "ipython",
    "version": 3
   },
   "file_extension": ".py",
   "mimetype": "text/x-python",
   "name": "python",
   "nbconvert_exporter": "python",
   "pygments_lexer": "ipython3",
   "version": "3.9.4"
  }
 },
 "nbformat": 4,
 "nbformat_minor": 4
}
