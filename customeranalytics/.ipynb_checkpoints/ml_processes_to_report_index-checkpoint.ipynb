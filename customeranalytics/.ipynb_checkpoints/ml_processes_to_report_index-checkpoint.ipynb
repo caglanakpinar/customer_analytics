{
 "cells": [
  {
   "cell_type": "code",
   "execution_count": 1,
   "metadata": {},
   "outputs": [
    {
     "data": {
      "text/html": [
       "<style>.container { width:90% !important; }</style>"
      ],
      "text/plain": [
       "<IPython.core.display.HTML object>"
      ]
     },
     "metadata": {},
     "output_type": "display_data"
    }
   ],
   "source": [
    "from IPython.display import display, HTML\n",
    "display(HTML('<style>.container { width:90% !important; }</style>'))\n",
    "from elasticsearch import Elasticsearch \n",
    "from elasticsearch import helpers\n",
    "from sklearn.cluster import KMeans\n",
    "import requests\n",
    "from urllib.parse import urljoin\n",
    "from time import gmtime, strftime\n",
    "from itertools import product\n",
    "import warnings\n",
    "from scipy import stats\n",
    "import chart_studio.plotly.plotly as py\n",
    "import plotly.graph_objs as go\n",
    "import plotly.offline as offline\n",
    "import pandas as pd\n",
    "import numpy as np\n",
    "import datetime"
   ]
  },
  {
   "cell_type": "code",
   "execution_count": 2,
   "metadata": {},
   "outputs": [],
   "source": [
    "es=Elasticsearch([{'host':'localhost','port':9200}], timeout=300, max_retries=10)"
   ]
  },
  {
   "cell_type": "code",
   "execution_count": 3,
   "metadata": {},
   "outputs": [
    {
     "name": "stderr",
     "output_type": "stream",
     "text": [
      "/Users/caglanakpinar/miniforge3/lib/python3.9/site-packages/plotly/graph_objs/_deprecations.py:143: DeprecationWarning:\n",
      "\n",
      "plotly.graph_objs.Annotation is deprecated.\n",
      "Please replace it with one of the following more specific types\n",
      "  - plotly.graph_objs.layout.Annotation\n",
      "  - plotly.graph_objs.layout.scene.Annotation\n",
      "\n",
      "\n"
     ]
    },
    {
     "name": "stdout",
     "output_type": "stream",
     "text": [
      "[Errno 21] Is a directory: '/Users/caglanakpinar/Desktop/temp_customer_analytics_folder/build_in_reports/main/2021-06-19'\n"
     ]
    }
   ],
   "source": [
    "from data_storage_configurations.reports import Reports"
   ]
  },
  {
   "cell_type": "code",
   "execution_count": 4,
   "metadata": {},
   "outputs": [],
   "source": [
    "create_build_in_reports = Reports()"
   ]
  },
  {
   "cell_type": "code",
   "execution_count": 5,
   "metadata": {
    "scrolled": false
   },
   "outputs": [
    {
     "name": "stdout",
     "output_type": "stream",
     "text": [
      "list index out of range\n",
      "folder already exists\n",
      "'host'\n"
     ]
    }
   ],
   "source": [
    "create_build_in_reports.create_build_in_reports()"
   ]
  },
  {
   "cell_type": "code",
   "execution_count": 6,
   "metadata": {
    "scrolled": true
   },
   "outputs": [
    {
     "ename": "NameError",
     "evalue": "name 'create_mls' is not defined",
     "output_type": "error",
     "traceback": [
      "\u001b[0;31m---------------------------------------------------------------------------\u001b[0m",
      "\u001b[0;31mNameError\u001b[0m                                 Traceback (most recent call last)",
      "\u001b[0;32m<ipython-input-6-cd977ec72e80>\u001b[0m in \u001b[0;36m<module>\u001b[0;34m\u001b[0m\n\u001b[0;32m----> 1\u001b[0;31m \u001b[0mcreate_mls\u001b[0m\u001b[0;34m(\u001b[0m\u001b[0mconfigs\u001b[0m\u001b[0;34m)\u001b[0m\u001b[0;34m\u001b[0m\u001b[0;34m\u001b[0m\u001b[0m\n\u001b[0m",
      "\u001b[0;31mNameError\u001b[0m: name 'create_mls' is not defined"
     ]
    }
   ],
   "source": [
    "create_mls(configs)"
   ]
  },
  {
   "cell_type": "code",
   "execution_count": null,
   "metadata": {},
   "outputs": [],
   "source": [
    "res = []\n",
    "for r in es.search(index='reports', body={\"size\": 1000, \"from\": 0})['hits']['hits']:\n",
    "    try:\n",
    "        res.append({'report_name': r['_source']['report_name'],\n",
    "                    'report_date': r['_source']['report_date'],\n",
    "                    'time_period': r['_source']['report_types'].get('time_period', None),\n",
    "                    'type': r['_source']['report_types'].get('type', None),\n",
    "                    'from': r['_source']['report_types'].get('from', None),\n",
    "                    'to': r['_source']['report_types'].get('to', None),\n",
    "                    'abtest_type': r['_source']['report_types'].get('abtest_type', None),\n",
    "                    'report_types': r['_source']['report_types'],\n",
    "                    'index': r['_source']['index'],\n",
    "                    'data': r['_source']['data']})\n",
    "    except Exception as e:\n",
    "        print(e)"
   ]
  },
  {
   "cell_type": "code",
   "execution_count": null,
   "metadata": {},
   "outputs": [],
   "source": [
    "list(pd.DataFrame(res).query(\"index == 'location_1' and report_name == 'rfm'\")['data'])[0]"
   ]
  },
  {
   "cell_type": "code",
   "execution_count": null,
   "metadata": {},
   "outputs": [],
   "source": [
    "data = query_mls(configs, {\"start_date\": \"2021-02-06\"}, \"segmentation\")\n",
    "rfm = query_exploratory_analysis({\"date\": None,\n",
    "           \"funnel\": {\"actions\": [\"download\", \"signup\"], \n",
    "                      \"purchase_actions\": [\"has_basket\", \"order_screen\"], \n",
    "                      \"host\": 'localhost', \n",
    "                      \"port\": '9200', \n",
    "                      'download_index': 'downloads', \n",
    "                      'order_index': 'orders'},\n",
    "           \"cohort\": {\"has_download\": True, \"host\": 'localhost', \"port\": '9200'},\n",
    "           \"products\": {\"has_download\": True, \"host\": 'localhost', \"port\": '9200'},\n",
    "           \"rfm\": {\"host\": 'localhost', \"port\": '9200', 'download_index': 'downloads', 'order_index': 'orders'},\n",
    "           \"stats\": {\"host\": 'localhost', \"port\": '9200', 'download_index': 'downloads', 'order_index': 'orders'}\n",
    "          }, queries, \"rfm\")"
   ]
  },
  {
   "cell_type": "code",
   "execution_count": null,
   "metadata": {},
   "outputs": [],
   "source": [
    "pd.merge(data, rfm, on='client', how='inner').iloc[0:2000].to_csv(\"sample_data_rfm.csv\")"
   ]
  },
  {
   "cell_type": "code",
   "execution_count": null,
   "metadata": {},
   "outputs": [],
   "source": [
    "pip install screeninfo"
   ]
  },
  {
   "cell_type": "code",
   "execution_count": null,
   "metadata": {},
   "outputs": [],
   "source": [
    "from screeninfo import get_monitors\n",
    "for m in get_monitors():\n",
    "    print(str(m))"
   ]
  },
  {
   "cell_type": "code",
   "execution_count": null,
   "metadata": {},
   "outputs": [],
   "source": [
    "monitor = get_monitors()[0]\n",
    "monitor[]"
   ]
  },
  {
   "cell_type": "code",
   "execution_count": null,
   "metadata": {},
   "outputs": [],
   "source": [
    "monitor.width"
   ]
  },
  {
   "cell_type": "code",
   "execution_count": null,
   "metadata": {},
   "outputs": [],
   "source": [
    "def get_widths_heights():\n",
    "    monitor = get_monitors()[0]\n",
    "    if moni"
   ]
  },
  {
   "cell_type": "code",
   "execution_count": 9,
   "metadata": {},
   "outputs": [
    {
     "data": {
      "text/plain": [
       "{1, 2, 4, None}"
      ]
     },
     "execution_count": 9,
     "metadata": {},
     "output_type": "execute_result"
    }
   ],
   "source": [
    "{1, 2, 4, 4, None} - {'None'}"
   ]
  },
  {
   "cell_type": "code",
   "execution_count": null,
   "metadata": {},
   "outputs": [],
   "source": []
  }
 ],
 "metadata": {
  "kernelspec": {
   "display_name": "Python 3",
   "language": "python",
   "name": "python3"
  },
  "language_info": {
   "codemirror_mode": {
    "name": "ipython",
    "version": 3
   },
   "file_extension": ".py",
   "mimetype": "text/x-python",
   "name": "python",
   "nbconvert_exporter": "python",
   "pygments_lexer": "ipython3",
   "version": "3.9.4"
  }
 },
 "nbformat": 4,
 "nbformat_minor": 4
}
